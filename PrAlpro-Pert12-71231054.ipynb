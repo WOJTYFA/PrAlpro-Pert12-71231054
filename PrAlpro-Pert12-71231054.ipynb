{
 "cells": [
  {
   "cell_type": "code",
   "execution_count": 2,
   "metadata": {},
   "outputs": [
    {
     "name": "stdout",
     "output_type": "stream",
     "text": [
      "True\n"
     ]
    }
   ],
   "source": [
    "#latihan 11.1\n",
    "def cek_semua(tup):\n",
    "    return all(elem == tup[0] for elem in tup)\n",
    "\n",
    "#contoh \n",
    "A = (10, 10, 10, 10)\n",
    "output = cek_semua(A)\n",
    "print(output)\n"
   ]
  },
  {
   "cell_type": "code",
   "execution_count": 5,
   "metadata": {},
   "outputs": [
    {
     "name": "stdout",
     "output_type": "stream",
     "text": [
      "Data: Benedictus Karol Wojtyfa\n",
      "NIM: 71231054\n",
      "Nama: WojtyfaKarolBenedictus\n",
      "Alamat: Sleman, Daerah Istimewa Yogyakarta\n",
      "NIM: ('7', '1', '2', '3', '1', '0', '5', '4')\n",
      "Nama Depan: ('B', 'e', 'n', 'e', 'd', 'i', 'c', 't', 'u', 's')\n",
      "Nama Terbalik: ('Wojtyfa', 'Karol', 'Benedictus')\n"
     ]
    }
   ],
   "source": [
    "#latihan 11.2\n",
    "def proses_data_diri(data):\n",
    "    nim = \"\".join(data[1])\n",
    "    nama = \"\".join(data[0].split()[::-1])\n",
    "    nama_depan = tuple(data[0].split()[0])\n",
    "    nama_terbalik = tuple(data[0].split()[::-1])\n",
    "    hasil = f\"Data: {data[0]}\\nNIM: {nim}\\nNama: {nama}\\nAlamat: {data[2]}\\nNIM: {data[1]}\\nNama Depan: {nama_depan}\\nNama Terbalik: {nama_terbalik}\"\n",
    "    return hasil\n",
    "\n",
    "#contoh\n",
    "data_diri = (\"Benedictus Karol Wojtyfa\", (\"7\", \"1\", \"2\", \"3\", \"1\", \"0\", \"5\", \"4\"), \"Sleman, Daerah Istimewa Yogyakarta\")\n",
    "output = proses_data_diri(data_diri)\n",
    "print(output)"
   ]
  },
  {
   "cell_type": "code",
   "execution_count": 6,
   "metadata": {},
   "outputs": [
    {
     "name": "stdout",
     "output_type": "stream",
     "text": [
      "File tidak ditemukan\n"
     ]
    }
   ],
   "source": [
    "#latihan 11.3\n",
    "def pesan_diterima(filename):\n",
    "    hours = {}\n",
    "    with open(filename, \"r\") as file:\n",
    "        for line in file:\n",
    "            if line.startswith(\"From \"):\n",
    "                time_str = line.split()[5]\n",
    "                jam = time_str.split(\":\")[0]\n",
    "                hours[jam] = hours.get(jam, 0) + 1\n",
    "    return hours\n",
    "\n",
    "file_name = input(\"Masukan nama File: \")\n",
    "\n",
    "try:\n",
    "    distribution = pesan_diterima(file_name)\n",
    "    print(\"Distribusi jam dalam satu hari: \")\n",
    "    for hour, count in sorted(distribution.items()):\n",
    "        print(f\"{hour} {count}\")\n",
    "\n",
    "except FileNotFoundError:\n",
    "    print(\"File tidak ditemukan\")\n"
   ]
  }
 ],
 "metadata": {
  "kernelspec": {
   "display_name": "Python 3",
   "language": "python",
   "name": "python3"
  },
  "language_info": {
   "codemirror_mode": {
    "name": "ipython",
    "version": 3
   },
   "file_extension": ".py",
   "mimetype": "text/x-python",
   "name": "python",
   "nbconvert_exporter": "python",
   "pygments_lexer": "ipython3",
   "version": "3.12.0"
  }
 },
 "nbformat": 4,
 "nbformat_minor": 2
}
